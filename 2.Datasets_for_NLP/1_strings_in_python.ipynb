{
 "cells": [
  {
   "cell_type": "markdown",
   "metadata": {
    "id": "3O50VuWiUH8w"
   },
   "source": [
    "**Strings declaration**"
   ]
  },
  {
   "cell_type": "code",
   "execution_count": null,
   "metadata": {
    "colab": {
     "base_uri": "https://localhost:8080/"
    },
    "id": "onAgVGr67f62",
    "outputId": "d9c5ca5f-113a-4c91-f694-41214de1532f"
   },
   "outputs": [
    {
     "name": "stdout",
     "output_type": "stream",
     "text": [
      "Monty Python\n",
      "Monty Python's Flying Circus\n",
      "Monty Python's Flying Circus\n"
     ]
    }
   ],
   "source": [
    "# Strings can be specified using single quotes\n",
    "monty = 'Monty Python'\n",
    "print(monty)\n",
    "\n",
    "# ... or double quotes\n",
    "circus = \"Monty Python's Flying Circus\"\n",
    "print(circus)\n",
    "\n",
    "# If a string contains a single quote, we must backslash-escape the quote\n",
    "circus = 'Monty Python\\'s Flying Circus'\n",
    "print(circus)"
   ]
  },
  {
   "cell_type": "code",
   "execution_count": null,
   "metadata": {
    "colab": {
     "base_uri": "https://localhost:8080/"
    },
    "id": "7248hDXE8j6J",
    "outputId": "4854405a-5fc6-425b-fa6a-c3fe6b59bb79"
   },
   "outputs": [
    {
     "name": "stdout",
     "output_type": "stream",
     "text": [
      "Shall I compare thee to a Summer's day?Thou are more lovely and more temperate:\n",
      "Rough winds do shake the darling buds of May,And Summer's lease hath all too short a date:\n",
      "Shall I compare thee to a Summer's day?\n",
      "Thou are more lovely and more temperate:\n",
      "Rough winds do shake the darling buds of May,\n",
      "And Summer's lease hath all too short a date:\n"
     ]
    }
   ],
   "source": [
    "# Sometimes strings go over several lines.\n",
    "# Python provides us with various ways of entering them:\n",
    "# a) Using backslash\n",
    "couplet = \"Shall I compare thee to a Summer's day?\"\\\n",
    "   \"Thou are more lovely and more temperate:\"\n",
    "print(couplet)\n",
    "\n",
    "# b) Using parentheses:\n",
    "couplet = (\"Rough winds do shake the darling buds of May,\"\n",
    "   \"And Summer's lease hath all too short a date:\")\n",
    "print(couplet)\n",
    "\n",
    "# c) Using a triple-quoted string (to keep the newlines):\n",
    "couplet = \"\"\"Shall I compare thee to a Summer's day?\n",
    "Thou are more lovely and more temperate:\"\"\"\n",
    "print(couplet)\n",
    "\n",
    "couplet = '''Rough winds do shake the darling buds of May,\n",
    "And Summer's lease hath all too short a date:'''\n",
    "print(couplet)"
   ]
  },
  {
   "cell_type": "markdown",
   "metadata": {
    "id": "0_yRGmLGUPGn"
   },
   "source": [
    "**Basic operations**"
   ]
  },
  {
   "cell_type": "code",
   "execution_count": null,
   "metadata": {
    "colab": {
     "base_uri": "https://localhost:8080/",
     "height": 53
    },
    "id": "HqmjVShn9Qkr",
    "outputId": "bf67ea96-19f1-4e28-a54b-ab6beb04dfaf"
   },
   "outputs": [
    {
     "data": {
      "application/vnd.google.colaboratory.intrinsic+json": {
       "type": "string"
      },
      "text/plain": [
       "'veryveryvery'"
      ]
     },
     "metadata": {
      "tags": []
     },
     "output_type": "display_data"
    },
    {
     "data": {
      "application/vnd.google.colaboratory.intrinsic+json": {
       "type": "string"
      },
      "text/plain": [
       "'veryveryveryvery'"
      ]
     },
     "metadata": {
      "tags": []
     },
     "output_type": "display_data"
    }
   ],
   "source": [
    "# Concatenation\n",
    "display('very' + 'very' + 'very')\n",
    "display('very' * 4)"
   ]
  },
  {
   "cell_type": "code",
   "execution_count": null,
   "metadata": {
    "colab": {
     "base_uri": "https://localhost:8080/",
     "height": 125
    },
    "id": "hZQp_J1n9n-r",
    "outputId": "7abb92df-37d1-4f2a-e682-314eed958c45"
   },
   "outputs": [
    {
     "data": {
      "application/vnd.google.colaboratory.intrinsic+json": {
       "type": "string"
      },
      "text/plain": [
       "'Monty Python'"
      ]
     },
     "metadata": {
      "tags": []
     },
     "output_type": "display_data"
    },
    {
     "data": {
      "application/vnd.google.colaboratory.intrinsic+json": {
       "type": "string"
      },
      "text/plain": [
       "'M'"
      ]
     },
     "metadata": {
      "tags": []
     },
     "output_type": "display_data"
    },
    {
     "data": {
      "application/vnd.google.colaboratory.intrinsic+json": {
       "type": "string"
      },
      "text/plain": [
       "'t'"
      ]
     },
     "metadata": {
      "tags": []
     },
     "output_type": "display_data"
    },
    {
     "data": {
      "application/vnd.google.colaboratory.intrinsic+json": {
       "type": "string"
      },
      "text/plain": [
       "' '"
      ]
     },
     "metadata": {
      "tags": []
     },
     "output_type": "display_data"
    },
    {
     "data": {
      "application/vnd.google.colaboratory.intrinsic+json": {
       "type": "string"
      },
      "text/plain": [
       "'n'"
      ]
     },
     "metadata": {
      "tags": []
     },
     "output_type": "display_data"
    },
    {
     "data": {
      "application/vnd.google.colaboratory.intrinsic+json": {
       "type": "string"
      },
      "text/plain": [
       "'o'"
      ]
     },
     "metadata": {
      "tags": []
     },
     "output_type": "display_data"
    }
   ],
   "source": [
    "# Accessing individual characters\n",
    "display(monty)\n",
    "display(monty[0])\n",
    "display(monty[3])\n",
    "display(monty[5])\n",
    "\n",
    "# -1 is the index of the last character \n",
    "display(monty[-1])\n",
    "\n",
    "# -N is the index of the last N character \n",
    "display(monty[-2])"
   ]
  },
  {
   "cell_type": "code",
   "execution_count": null,
   "metadata": {
    "colab": {
     "base_uri": "https://localhost:8080/"
    },
    "id": "FwWYXh9Y97zk",
    "outputId": "bcda8c36-3611-4af5-89b2-b5bf6c7606d2"
   },
   "outputs": [
    {
     "name": "stdout",
     "output_type": "stream",
     "text": [
      "c o l o r l e s s   g r e e n   i d e a s   s l e e p   f u r i o u s l y "
     ]
    }
   ],
   "source": [
    "# Iterate characters in strings \n",
    "sent = 'colorless green ideas sleep furiously'\n",
    "for char in sent:\n",
    "   print(char, end=' ')"
   ]
  },
  {
   "cell_type": "markdown",
   "metadata": {
    "id": "lDCvCEg6UclB"
   },
   "source": [
    "**Substrings**"
   ]
  },
  {
   "cell_type": "code",
   "execution_count": null,
   "metadata": {
    "colab": {
     "base_uri": "https://localhost:8080/",
     "height": 107
    },
    "id": "Ks1d5iiMAC5R",
    "outputId": "d6b0b213-7289-47f8-b029-9c7435984c6c"
   },
   "outputs": [
    {
     "data": {
      "application/vnd.google.colaboratory.intrinsic+json": {
       "type": "string"
      },
      "text/plain": [
       "'Monty Python'"
      ]
     },
     "metadata": {
      "tags": []
     },
     "output_type": "display_data"
    },
    {
     "data": {
      "application/vnd.google.colaboratory.intrinsic+json": {
       "type": "string"
      },
      "text/plain": [
       "'Pyth'"
      ]
     },
     "metadata": {
      "tags": []
     },
     "output_type": "display_data"
    },
    {
     "data": {
      "application/vnd.google.colaboratory.intrinsic+json": {
       "type": "string"
      },
      "text/plain": [
       "'tho'"
      ]
     },
     "metadata": {
      "tags": []
     },
     "output_type": "display_data"
    },
    {
     "data": {
      "application/vnd.google.colaboratory.intrinsic+json": {
       "type": "string"
      },
      "text/plain": [
       "'Monty'"
      ]
     },
     "metadata": {
      "tags": []
     },
     "output_type": "display_data"
    },
    {
     "data": {
      "application/vnd.google.colaboratory.intrinsic+json": {
       "type": "string"
      },
      "text/plain": [
       "'Python'"
      ]
     },
     "metadata": {
      "tags": []
     },
     "output_type": "display_data"
    }
   ],
   "source": [
    "# We use [ ] for slides (e.g. for substrings or sublists)\n",
    "# It starts at the first index but finishes one before the end index\n",
    "display(monty)\n",
    "display(monty[6:10])\n",
    "display(monty[-4:-1])\n",
    "\n",
    "# If we omit the first value, the substring begins at the start of the string or list\n",
    "display(monty[:5])\n",
    "\n",
    "# If we omit the second value, the substring continues to the end of the string or list\n",
    "display(monty[6:])\n"
   ]
  },
  {
   "cell_type": "markdown",
   "metadata": {
    "id": "er-4mwJNfPxy"
   },
   "source": [
    "**Basic search**"
   ]
  },
  {
   "cell_type": "code",
   "execution_count": null,
   "metadata": {
    "colab": {
     "base_uri": "https://localhost:8080/"
    },
    "id": "wwH-HdE9BOmu",
    "outputId": "58cfd0f0-cb44-409e-9f46-7e9737fac945"
   },
   "outputs": [
    {
     "name": "stdout",
     "output_type": "stream",
     "text": [
      "found \"thing\"\n"
     ]
    },
    {
     "data": {
      "text/plain": [
       "6"
      ]
     },
     "execution_count": 29,
     "metadata": {
      "tags": []
     },
     "output_type": "execute_result"
    }
   ],
   "source": [
    "# We can check if a string is contained in other using the in operator:\n",
    "phrase = 'And now for something completely different'\n",
    "if 'thing' in phrase:\n",
    "   print('found \"thing\"')\n",
    "\n",
    "# We can also find the position of a string within other using find():\n",
    "monty.find('Python')"
   ]
  },
  {
   "cell_type": "markdown",
   "metadata": {
    "id": "iAXHkZZCBlbB"
   },
   "source": [
    "**Other useful methods**\n",
    "\n",
    "|Method | Functionality|\n",
    "|------|------|\n",
    "|`s.find(t)` | index of first instance of string t inside `s` (`-1` if not found)|\n",
    "|`s.rfind(t)` | index of last instance of string t inside `s` (`-1` if not found)|\n",
    "|`s.index(t)` | like `s.find(t)` except it raises `ValueError` if not found|\n",
    "|`s.rindex(t)` | like `s.rfind(t)` except it raises `ValueError` if not found|\n",
    "|`s.join(text)` | combine the words of the text into a string using `s` as the glue|\n",
    "|`s.split(t)` | split `s` into a list wherever a `t` is found (whitespace by default)|\n",
    "|`s.splitlines()` | split `s` into a list of strings, one per line|\n",
    "|`s.lower()` | a lowercased version of the string `s`|\n",
    "|`s.upper()` | an uppercased version of the string `s`|\n",
    "|`s.title()` | a titlecased version of the string `s`|\n",
    "|`s.strip()` | a copy of `s` without leading or trailing whitespace|\n",
    "|`s.replace(t, u)` | replace instances of `t` with `u` inside `s`|\n"
   ]
  },
  {
   "cell_type": "markdown",
   "metadata": {
    "id": "FEtUCevHf2h-"
   },
   "source": [
    "**Unicode**"
   ]
  },
  {
   "cell_type": "code",
   "execution_count": 3,
   "metadata": {
    "colab": {
     "base_uri": "https://localhost:8080/"
    },
    "id": "t9YUYheEf4Hb",
    "outputId": "df74791d-d544-485a-a33b-be9d199d3213"
   },
   "outputs": [
    {
     "name": "stdout",
     "output_type": "stream",
     "text": [
      "241\n",
      "ñ\n",
      "Learning 🐝\n"
     ]
    }
   ],
   "source": [
    "print(ord('ñ'))\n",
    "\n",
    "# 241 in decimal is the same than 0x00F1 in hexadecimal\n",
    "n_tilde = '\\u00F1' \n",
    "print(n_tilde)\n",
    "\n",
    "python_emoji = '\\U0001F41D'\n",
    "print('Learning', python_emoji)"
   ]
  },
  {
   "cell_type": "markdown",
   "metadata": {
    "id": "0Xl5tvM51Cx1"
   },
   "source": [
    "**Regular expressions**"
   ]
  },
  {
   "cell_type": "code",
   "execution_count": null,
   "metadata": {
    "colab": {
     "base_uri": "https://localhost:8080/"
    },
    "id": "VaZMBVMo1EU7",
    "outputId": "3adbe37d-2847-462f-9485-d3ca922ed094"
   },
   "outputs": [
    {
     "name": "stdout",
     "output_type": "stream",
     "text": [
      "['ai', 'ai']\n",
      "(12, 17)\n",
      "The rain in Spain\n",
      "Spain\n"
     ]
    }
   ],
   "source": [
    "import re\n",
    "\n",
    "txt = \"The rain in Spain\"\n",
    "x = re.findall(\"ai\", txt)\n",
    "print(x)\n",
    "\n",
    "# r prefix to a string indicates that the string is a raw string\n",
    "# (i.e. backslashes \\ should be treated literally and not as escape characters)\n",
    "x = re.search(r\"\\bS\\w+\", txt) # Match object\n",
    "\n",
    "# The Match object has properties and methods used to retrieve information about the search, and the result:\n",
    "# .span() returns a tuple containing the start-, and end positions of the match\n",
    "# .string returns the string passed into the function\n",
    "# .group() returns the part of the string where there was a match\n",
    "\n",
    "print(x.span())\n",
    "print(x.string)\n",
    "print(x.group())"
   ]
  }
 ],
 "metadata": {
  "colab": {
   "collapsed_sections": [],
   "name": "1_strings_in_python.ipynb",
   "provenance": []
  },
  "kernelspec": {
   "display_name": "Python 3 (ipykernel)",
   "language": "python",
   "name": "python3"
  },
  "language_info": {
   "codemirror_mode": {
    "name": "ipython",
    "version": 3
   },
   "file_extension": ".py",
   "mimetype": "text/x-python",
   "name": "python",
   "nbconvert_exporter": "python",
   "pygments_lexer": "ipython3",
   "version": "3.12.2"
  }
 },
 "nbformat": 4,
 "nbformat_minor": 4
}
