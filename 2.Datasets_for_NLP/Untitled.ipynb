{
 "cells": [
  {
   "cell_type": "code",
   "execution_count": null,
   "id": "162fc71b-fac2-48a6-908c-f5226c48bbf6",
   "metadata": {},
   "outputs": [],
   "source": []
  },
  {
   "cell_type": "code",
   "execution_count": 54,
   "id": "30093181-04a9-4c7e-a60a-247fe3eb457a",
   "metadata": {},
   "outputs": [],
   "source": [
    "import requests \n",
    "from bs4 import BeautifulSoup as bs \n",
    "import csv \n",
    "\n",
    "URL = 'https://www.geeksforgeeks.org/page/1'\n",
    "\n",
    "soup = bs(req.text, 'html.parser') \n",
    "\n",
    "titles = soup.find_all('div', attrs={'class', 'head'}) \n",
    "titles_list = [] \n",
    "\n",
    "count = 1\n",
    "for title in titles: \n",
    "\td = {} \n",
    "\td['Title Number'] = f'Title {count}'\n",
    "\td['Title Name'] = title.text \n",
    "\tcount += 1\n",
    "\ttitles_list.append(d) \n",
    "\n",
    "filename = 'titles.csv'\n",
    "with open(filename, 'w', newline='') as f: \n",
    "\tw = csv.DictWriter(f,['Title Number','Title Name']) \n",
    "\tw.writeheader() \n",
    "\t\n",
    "\tw.writerows(titles_list)\n",
    "\n"
   ]
  },
  {
   "cell_type": "code",
   "execution_count": null,
   "id": "ede2982c-857d-410c-955c-598a9981b20b",
   "metadata": {},
   "outputs": [],
   "source": []
  }
 ],
 "metadata": {
  "kernelspec": {
   "display_name": "Python 3 (ipykernel)",
   "language": "python",
   "name": "python3"
  },
  "language_info": {
   "codemirror_mode": {
    "name": "ipython",
    "version": 3
   },
   "file_extension": ".py",
   "mimetype": "text/x-python",
   "name": "python",
   "nbconvert_exporter": "python",
   "pygments_lexer": "ipython3",
   "version": "3.12.2"
  }
 },
 "nbformat": 4,
 "nbformat_minor": 5
}
