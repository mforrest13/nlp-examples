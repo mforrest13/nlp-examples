{
 "cells": [
  {
   "cell_type": "markdown",
   "metadata": {
    "id": "bk83xY5EH2is"
   },
   "source": [
    "**Stop words list**"
   ]
  },
  {
   "cell_type": "code",
   "execution_count": null,
   "metadata": {
    "colab": {
     "base_uri": "https://localhost:8080/"
    },
    "id": "Du0UBmLyIHpV",
    "outputId": "8020ca96-fbd9-41f5-a634-51a82860a63a"
   },
   "outputs": [
    {
     "name": "stdout",
     "output_type": "stream",
     "text": [
      "[nltk_data] Downloading package stopwords to /root/nltk_data...\n",
      "[nltk_data]   Package stopwords is already up-to-date!\n",
      "179\n",
      "['i', 'me', 'my', 'myself', 'we'] ... [\"weren't\", 'won', \"won't\", 'wouldn', \"wouldn't\"]\n"
     ]
    }
   ],
   "source": [
    "import nltk\n",
    "from nltk.corpus import stopwords\n",
    "nltk.download(\"stopwords\")\n",
    "\n",
    "sw_en = stopwords.words(\"english\")\n",
    "print(len(sw_en))\n",
    "print(sw_en[:5], \"...\", sw_en[-5:])"
   ]
  },
  {
   "cell_type": "markdown",
   "metadata": {
    "id": "Ep5VN3QnJnrO"
   },
   "source": [
    " **WordNet**"
   ]
  },
  {
   "cell_type": "code",
   "execution_count": null,
   "metadata": {
    "colab": {
     "base_uri": "https://localhost:8080/"
    },
    "id": "4jvb2x_UJo-I",
    "outputId": "81916a23-f076-43c1-9422-bffa1ebbed46"
   },
   "outputs": [
    {
     "name": "stdout",
     "output_type": "stream",
     "text": [
      "[nltk_data] Downloading package wordnet to /root/nltk_data...\n",
      "[nltk_data]   Package wordnet is already up-to-date!\n",
      "[Synset('car.n.01')]\n",
      "Synonymous words (or 'lemmas'): ['car', 'auto', 'automobile', 'machine', 'motorcar']\n",
      "Definition: a motor vehicle with four wheels; usually propelled by an internal combustion engine\n",
      "Examples: ['he needs a car to get to work']\n",
      "Types: [Synset('ambulance.n.01'), Synset('beach_wagon.n.01'), Synset('bus.n.04'), Synset('cab.n.03'), Synset('compact.n.03'), Synset('convertible.n.01'), Synset('coupe.n.01'), Synset('cruiser.n.01'), Synset('electric.n.01'), Synset('gas_guzzler.n.01'), Synset('hardtop.n.01'), Synset('hatchback.n.01'), Synset('horseless_carriage.n.01'), Synset('hot_rod.n.01'), Synset('jeep.n.01'), Synset('limousine.n.01'), Synset('loaner.n.02'), Synset('minicar.n.01'), Synset('minivan.n.01'), Synset('model_t.n.01'), Synset('pace_car.n.01'), Synset('racer.n.02'), Synset('roadster.n.01'), Synset('sedan.n.01'), Synset('sport_utility.n.01'), Synset('sports_car.n.01'), Synset('stanley_steamer.n.01'), Synset('stock_car.n.01'), Synset('subcompact.n.01'), Synset('touring_car.n.01'), Synset('used-car.n.01')]\n",
      "Parts: [Synset('accelerator.n.01'), Synset('air_bag.n.01'), Synset('auto_accessory.n.01'), Synset('automobile_engine.n.01'), Synset('automobile_horn.n.01'), Synset('buffer.n.06'), Synset('bumper.n.02'), Synset('car_door.n.01'), Synset('car_mirror.n.01'), Synset('car_seat.n.01'), Synset('car_window.n.01'), Synset('fender.n.01'), Synset('first_gear.n.01'), Synset('floorboard.n.02'), Synset('gasoline_engine.n.01'), Synset('glove_compartment.n.01'), Synset('grille.n.02'), Synset('high_gear.n.01'), Synset('hood.n.09'), Synset('luggage_compartment.n.01'), Synset('rear_window.n.01'), Synset('reverse.n.02'), Synset('roof.n.02'), Synset('running_board.n.01'), Synset('stabilizer_bar.n.01'), Synset('sunroof.n.01'), Synset('tail_fin.n.02'), Synset('third_gear.n.01'), Synset('window.n.02')]\n"
     ]
    }
   ],
   "source": [
    "from nltk.corpus import wordnet\n",
    "nltk.download(\"wordnet\")\n",
    "\n",
    "# The synsets() method return a list of Synset (synonym set) objects\n",
    "ss_car_list = wordnet.synsets(\"motorcar\")\n",
    "\n",
    "# In this example, the word \"motorcar\" has just one possible meaning and it is identified as \"car.n.01\"\n",
    "print(ss_car_list)\n",
    "\n",
    "for ss_car in ss_car_list:\n",
    "   print(\"Synonymous words (or 'lemmas'):\", ss_car.lemma_names())\n",
    "   print(\"Definition:\", ss_car.definition())\n",
    "   print(\"Examples:\", ss_car.examples())\n",
    "   print(\"Types:\", ss_car.hyponyms())\n",
    "   print(\"Parts:\", ss_car.part_meronyms())"
   ]
  }
 ],
 "metadata": {
  "colab": {
   "collapsed_sections": [],
   "name": "3_lexicons.ipynb",
   "provenance": []
  },
  "kernelspec": {
   "display_name": "Python 3 (ipykernel)",
   "language": "python",
   "name": "python3"
  },
  "language_info": {
   "codemirror_mode": {
    "name": "ipython",
    "version": 3
   },
   "file_extension": ".py",
   "mimetype": "text/x-python",
   "name": "python",
   "nbconvert_exporter": "python",
   "pygments_lexer": "ipython3",
   "version": "3.12.2"
  }
 },
 "nbformat": 4,
 "nbformat_minor": 4
}
